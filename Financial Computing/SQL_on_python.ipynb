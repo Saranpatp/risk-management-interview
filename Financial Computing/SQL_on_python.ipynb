{
 "cells": [
  {
   "cell_type": "code",
   "execution_count": 1,
   "metadata": {},
   "outputs": [],
   "source": [
    "import psycopg2\n",
    "# Connect to the PostgreSQL database\n",
    "conn = psycopg2.connect(\n",
    "    host=\"localhost\",\n",
    "    database=\"postgres\",\n",
    "    user=\"postgres\",\n",
    "    password=\"docker\"\n",
    ")"
   ]
  },
  {
   "cell_type": "code",
   "execution_count": 3,
   "metadata": {},
   "outputs": [
    {
     "name": "stdout",
     "output_type": "stream",
     "text": [
      "(Decimal('17063.287190082645'), 'Withdrawal')\n",
      "(Decimal('16853.007751937984'), 'Deposit')\n"
     ]
    }
   ],
   "source": [
    "# get average of each transaction type\n",
    "cur = conn.cursor()\n",
    "cur.execute('''\n",
    "    SELECT AVG(t.amount), t.transaction_type  \n",
    "    FROM transactions t \n",
    "    GROUP BY t.transaction_type\n",
    "''')\n",
    "rows = cur.fetchall()\n",
    "for row in rows:\n",
    "    print(row)"
   ]
  },
  {
   "cell_type": "code",
   "execution_count": 5,
   "metadata": {},
   "outputs": [
    {
     "name": "stdout",
     "output_type": "stream",
     "text": [
      "(1, 'John', 'Doe', Decimal('16803.471774193548'), 'Deposit')\n",
      "(1, 'John', 'Doe', Decimal('17424.349794238683'), 'Withdrawal')\n",
      "(2, 'Jane', 'Doe', Decimal('17056.080882352941'), 'Deposit')\n",
      "(2, 'Jane', 'Doe', Decimal('16402.209302325581'), 'Withdrawal')\n",
      "(3, 'Jim', 'Smith', Decimal('17041.330357142857'), 'Withdrawal')\n",
      "(3, 'Jim', 'Smith', Decimal('16736.848484848485'), 'Deposit')\n"
     ]
    }
   ],
   "source": [
    "# get avarage of each customer deposit/withdraw\n",
    "cur.execute('''\n",
    "    select  c.customer_id, c.first_name ,c.last_name  , avg(t.amount), t.transaction_type  \n",
    "    from  accounts a \n",
    "    inner join transactions t on t.account_number = a.account_number \n",
    "    inner join customers c on a.customer_id = c.customer_id \n",
    "    group by c.customer_id,t.transaction_type\n",
    "    order by c.customer_id ;\n",
    "''')\n",
    "rows = cur.fetchall()\n",
    "for row in rows:\n",
    "    print(row)"
   ]
  }
 ],
 "metadata": {
  "kernelspec": {
   "display_name": "base",
   "language": "python",
   "name": "python3"
  },
  "language_info": {
   "codemirror_mode": {
    "name": "ipython",
    "version": 3
   },
   "file_extension": ".py",
   "mimetype": "text/x-python",
   "name": "python",
   "nbconvert_exporter": "python",
   "pygments_lexer": "ipython3",
   "version": "3.9.12"
  },
  "orig_nbformat": 4,
  "vscode": {
   "interpreter": {
    "hash": "dee228cee51ea3be9d71a3d90a45f3623ec57f29b5d0dce0e03d09b892f3fd47"
   }
  }
 },
 "nbformat": 4,
 "nbformat_minor": 2
}

{
 "cells": [
  {
   "cell_type": "code",
   "execution_count": 36,
   "metadata": {},
   "outputs": [],
   "source": [
    "import numpy as np\n",
    "import pandas as pd\n",
    "import datetime as dt\n",
    "import yfinance as yf\n",
    "import matplotlib.pyplot as plt\n",
    "from scipy.stats import norm\n",
    "from urllib.request import urlopen\n",
    "import QuantLib as ql\n",
    "\n",
    "plt.rcParams[\"figure.figsize\"] = (16,9)"
   ]
  },
  {
   "attachments": {},
   "cell_type": "markdown",
   "metadata": {},
   "source": [
    "**Forward Price(F)**\n",
    "* mostly traded over the counter"
   ]
  },
  {
   "cell_type": "code",
   "execution_count": 50,
   "metadata": {},
   "outputs": [],
   "source": [
    "def get_currency_fwd(spot_rate_domestic_forien,domestic_rate_pct,forien_rate_pct,t_years,is_cont=False):\n",
    "    \n",
    "    '''\n",
    "    rate is in perecent\n",
    "    Replication (Domestic: Yen , Forien: USD)\n",
    "    1. Borrow Forien: USD \n",
    "    2. Sell Forien: USD for Domestic: Yen\n",
    "    3. Invest the in Domestic: Yen rate\n",
    "    '''\n",
    "    # continous case\n",
    "    if is_cont: return spot_rate_domestic_forien*np.exp((domestic_rate_pct-forien_rate_pct)*t_years/100)\n",
    "\n",
    "    return spot_rate_domestic_forien*(1+domestic_rate_pct/100)**t_years/(1+forien_rate_pct/100)\n",
    "\n",
    "def get_fwd_price(spot_price,rf_rate_pct,t_years,is_cont=False):\n",
    "    \n",
    "    '''\n",
    "    rate is in perecent\n",
    "    Replication \n",
    "    1. Borrow USD\n",
    "    2. Invest the in USD\n",
    "    '''\n",
    "    # continous case\n",
    "    if is_cont: return spot_price*np.exp(rf_rate_pct*t_years/100)\n",
    "\n",
    "    return spot_price*(1+rf_rate_pct/100)**t_years"
   ]
  },
  {
   "cell_type": "code",
   "execution_count": 49,
   "metadata": {},
   "outputs": [
    {
     "data": {
      "text/plain": [
       "117.33014846320036"
      ]
     },
     "execution_count": 49,
     "metadata": {},
     "output_type": "execute_result"
    }
   ],
   "source": [
    "get_currency_fwd(120,0.15,2.40,1,True)"
   ]
  },
  {
   "cell_type": "code",
   "execution_count": 52,
   "metadata": {},
   "outputs": [
    {
     "data": {
      "text/plain": [
       "125.52334318904603"
      ]
     },
     "execution_count": 52,
     "metadata": {},
     "output_type": "execute_result"
    }
   ],
   "source": [
    "get_fwd_price(120,1.5,3,True)"
   ]
  },
  {
   "attachments": {},
   "cell_type": "markdown",
   "metadata": {},
   "source": [
    "**Futures Contracts(f)** \n",
    "\n",
    "Future(f) = Forward(F) will hold unless\n",
    "\n",
    "\n",
    "* the riskless rate from now till T is unpredictable\n",
    "* the spot price S is highly correlate with the rate"
   ]
  },
  {
   "cell_type": "code",
   "execution_count": 53,
   "metadata": {},
   "outputs": [],
   "source": [
    "def get_future_price(spot_price,rf_rate_pct,t_years,is_cont=False): \n",
    "    return get_fwd_price(spot_price,rf_rate_pct,t_years,is_cont)"
   ]
  },
  {
   "attachments": {},
   "cell_type": "markdown",
   "metadata": {},
   "source": [
    "**Fixed Income Security**"
   ]
  },
  {
   "cell_type": "code",
   "execution_count": 55,
   "metadata": {},
   "outputs": [],
   "source": [
    "def get_bond_price(coupon_rate, rf_rate, n, face_value):\n",
    "    return (coupon_rate / rf_rate) * (1 - (1 + rf_rate)**-n) + face_value / (1 + rf_rate)**n"
   ]
  },
  {
   "cell_type": "code",
   "execution_count": 60,
   "metadata": {},
   "outputs": [
    {
     "data": {
      "text/plain": [
       "100.0"
      ]
     },
     "execution_count": 60,
     "metadata": {},
     "output_type": "execute_result"
    }
   ],
   "source": [
    "coupon_rate = 5\n",
    "rf_rate = 0.05\n",
    "n = 10\n",
    "face_value = 100\n",
    "get_bond_price(coupon_rate, rf_rate, n, face_value)"
   ]
  },
  {
   "cell_type": "code",
   "execution_count": 41,
   "metadata": {},
   "outputs": [
    {
     "name": "stdout",
     "output_type": "stream",
     "text": [
      "Bond price: 114.53939534999284\n"
     ]
    }
   ],
   "source": [
    "import QuantLib as ql\n",
    "\n",
    "today = ql.Date.todaysDate()\n",
    "calendar = ql.TARGET()\n",
    "day_counter = ql.ActualActual(ql.ActualActual.ISMA)\n",
    "issue_date = ql.Date(1, 1, 2021)\n",
    "maturity_date = ql.Date(1, 1, 2031)\n",
    "coupon_rate = 0.05\n",
    "face_value = 100\n",
    "\n",
    "bond_schedule = ql.Schedule(issue_date, maturity_date, ql.Period(ql.Semiannual), calendar, ql.Unadjusted, ql.Unadjusted, ql.DateGeneration.Backward, False)\n",
    "bond = ql.FixedRateBond(0, face_value, bond_schedule, [coupon_rate], day_counter)\n",
    "\n",
    "yield_rate = 0.03\n",
    "discount_curve = ql.FlatForward(today, ql.QuoteHandle(ql.SimpleQuote(yield_rate)), day_counter)\n",
    "bond.setPricingEngine(ql.DiscountingBondEngine(ql.YieldTermStructureHandle(discount_curve)))\n",
    "\n",
    "price = bond.dirtyPrice()\n",
    "print('Bond price:', price)\n"
   ]
  },
  {
   "attachments": {},
   "cell_type": "markdown",
   "metadata": {},
   "source": [
    "**Swap**\n",
    "* assume market are perfect\n"
   ]
  },
  {
   "cell_type": "code",
   "execution_count": null,
   "metadata": {},
   "outputs": [],
   "source": [
    "def get_swap_price(fixed_rate, notional, market_rate, rt ,maturity_years, paid_freq = 2): # maturity_years unit: years\n",
    "    cash_flows = np.zeros(maturity_years * 12)\n",
    "    for i in range(maturity_years * 12): # paied everymonth\n",
    "        if i % 12 == 0:\n",
    "            cash_flows[i] = -notional * fixed_rate * dt\n",
    "        else:\n",
    "            cash_flows[i] = notional * (fixed_rate - market_rate) * dt\n",
    "    price = np.sum(cash_flows) / (1 + market_rate * dt)**(maturity_years * 12)\n",
    "    return price\n",
    "\n",
    "fixed_rate = 0.05\n",
    "notional = 100\n",
    "maturity = 1\n",
    "market_rate = 0.04 # should be the list since it chaning\n",
    "\n",
    "price = get_swap_price(fixed_rate, notional, maturity, market_rate)\n",
    "print(\"Swap price:\", price)"
   ]
  },
  {
   "cell_type": "code",
   "execution_count": 90,
   "metadata": {},
   "outputs": [
    {
     "name": "stdout",
     "output_type": "stream",
     "text": [
      "Swap price: 1504.508904479223\n"
     ]
    }
   ],
   "source": [
    "def get_fair_swap_fixed_price(discount_rates,fwd_com_prices): # maturity_years unit: years\n",
    "    discount_rates = np.array(discount_rates)\n",
    "    fwd_com_prices = np.array(fwd_com_prices)\n",
    "    return (discount_rates@fwd_com_prices.T)/np.sum(discount_rates)\n",
    "\n",
    "discount_rates = [0.970,0.941,0.912,0.883]\n",
    "fwd_com_prices = [1435,1485,1540,1565] # fwd gold price\n",
    "\n",
    "price = get_fair_swap_fixed_price(discount_rates, fwd_com_prices)\n",
    "print(\"Fair fixed swap price:\", price) "
   ]
  },
  {
   "cell_type": "code",
   "execution_count": 1,
   "metadata": {},
   "outputs": [],
   "source": [
    "def get_fair_int_swap_rate(rates,discount_rates):\n",
    "    \"\"\"\n",
    "    Replicate (floating rate using t bill and fixed rate(swap rate))\n",
    "    1. borrow 1-B0 cash and short bond B0 and invest 1 in tbill at t0\n",
    "    2. get 1+R12 from t bill, pay 1 back from borrowing cost at t2\n",
    "    ...\n",
    "    5. get 1+R45 from t bill, pay 1 back from borrowing cost at t5 \n",
    "    \"\"\"\n",
    "    return (discount_rates@rates.T)/np.sum(discount_rates) # similar to vanilla swap\n"
   ]
  },
  {
   "cell_type": "code",
   "execution_count": null,
   "metadata": {},
   "outputs": [],
   "source": []
  },
  {
   "attachments": {},
   "cell_type": "markdown",
   "metadata": {},
   "source": [
    "**CVA: Swaps (Monte-Carlo)**\n",
    "\n",
    "This will calculate the CVA on a swap with a fixed rate of 5%, a notional amount of $100, a maturity of 1 year, a recovery rate of 40%, a default probability of 10%, and a spread of 1%. The simulation will generate 10,000 scenarios to estimate the expected loss."
   ]
  },
  {
   "cell_type": "code",
   "execution_count": 59,
   "metadata": {},
   "outputs": [
    {
     "name": "stdout",
     "output_type": "stream",
     "text": [
      "CVA: 21.083251541633885\n"
     ]
    }
   ],
   "source": [
    "def cva_swap(fixed_rate, notional, maturity, recovery_rate, default_prob, spread, num_simulations):\n",
    "    dt = maturity / num_simulations\n",
    "    e = np.random.normal(0, 1, num_simulations)\n",
    "    r = fixed_rate + spread\n",
    "    pv = np.zeros(num_simulations)\n",
    "    for i in range(num_simulations):\n",
    "        if e[i] < default_prob:\n",
    "            pv[i] = notional * recovery_rate / (1 + r * dt)**(num_simulations - i)\n",
    "        else:\n",
    "            pv[i] = notional * fixed_rate * dt / (1 + r * dt)**(num_simulations - i)\n",
    "    return np.mean(pv)\n",
    "\n",
    "fixed_rate = 0.05\n",
    "notional = 100\n",
    "maturity = 1\n",
    "recovery_rate = 0.4\n",
    "default_prob = 0.1\n",
    "spread = 0.01\n",
    "num_simulations = 10000\n",
    "\n",
    "cva = cva_swap(fixed_rate, notional, maturity, recovery_rate, default_prob, spread, num_simulations)\n",
    "print(\"CVA:\", cva)\n"
   ]
  },
  {
   "cell_type": "code",
   "execution_count": null,
   "metadata": {},
   "outputs": [],
   "source": []
  }
 ],
 "metadata": {
  "kernelspec": {
   "display_name": "base",
   "language": "python",
   "name": "python3"
  },
  "language_info": {
   "codemirror_mode": {
    "name": "ipython",
    "version": 3
   },
   "file_extension": ".py",
   "mimetype": "text/x-python",
   "name": "python",
   "nbconvert_exporter": "python",
   "pygments_lexer": "ipython3",
   "version": "3.9.12"
  },
  "orig_nbformat": 4,
  "vscode": {
   "interpreter": {
    "hash": "dee228cee51ea3be9d71a3d90a45f3623ec57f29b5d0dce0e03d09b892f3fd47"
   }
  }
 },
 "nbformat": 4,
 "nbformat_minor": 2
}

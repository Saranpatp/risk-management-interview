{
 "cells": [
  {
   "cell_type": "code",
   "execution_count": 1,
   "metadata": {},
   "outputs": [],
   "source": [
    "import numpy as np\n",
    "import pandas as pd\n",
    "import datetime as dt\n",
    "import yfinance as yf\n",
    "import matplotlib.pyplot as plt\n",
    "from scipy.stats import norm\n",
    "from urllib.request import urlopen\n",
    "import certifi\n",
    "import json\n",
    "import math\n",
    "\n",
    "plt.rcParams[\"figure.figsize\"] = (16,9)"
   ]
  },
  {
   "attachments": {},
   "cell_type": "markdown",
   "metadata": {},
   "source": [
    "**Forward Price**"
   ]
  },
  {
   "cell_type": "code",
   "execution_count": 10,
   "metadata": {},
   "outputs": [],
   "source": [
    "def get_currency_fwd(spot_rate_domestic_forien,domestic_rate_pct,forien_rate_pct,t_years,is_cont=False):\n",
    "    \n",
    "    '''\n",
    "    rate is in perecent\n",
    "    Replication (Domestic: Yen , Forien: USD)\n",
    "    1. Borrow Forien: USD \n",
    "    2. Sell Forien: USD for Domestic: Yen\n",
    "    3. Invest the in Domestic: Yen rate\n",
    "    '''\n",
    "    # continous case\n",
    "    if is_cont: return spot_rate_domestic_forien*np.exp((domestic_rate_pct-forien_rate_pct)/100)\n",
    "\n",
    "    return spot_rate_domestic_forien*(1+domestic_rate_pct/100)/(1+forien_rate_pct/100)\n",
    "\n",
    "def get_fwd_price(spot_rate_domestic_forien,domestic_rate_pct,forien_rate_pct,t_years,is_cont=False):\n",
    "    \n",
    "    '''\n",
    "    rate is in perecent\n",
    "    Replication (Domestic: Yen , Forien: USD)\n",
    "    1. Borrow Forien: USD \n",
    "    2. Sell Forien: USD for Domestic: Yen\n",
    "    3. Invest the in Domestic: Yen rate\n",
    "    '''\n",
    "    # continous case\n",
    "    if is_cont: return spot_rate_domestic_forien*np.exp((domestic_rate_pct-forien_rate_pct)/100)\n",
    "\n",
    "    return spot_rate_domestic_forien*(1+domestic_rate_pct/100)/(1+forien_rate_pct/100)"
   ]
  },
  {
   "cell_type": "code",
   "execution_count": 11,
   "metadata": {},
   "outputs": [
    {
     "data": {
      "text/plain": [
       "117.33014846320036"
      ]
     },
     "execution_count": 11,
     "metadata": {},
     "output_type": "execute_result"
    }
   ],
   "source": [
    "get_currency_fwd(120,0.15,2.40,1,True)\n"
   ]
  }
 ],
 "metadata": {
  "kernelspec": {
   "display_name": "base",
   "language": "python",
   "name": "python3"
  },
  "language_info": {
   "codemirror_mode": {
    "name": "ipython",
    "version": 3
   },
   "file_extension": ".py",
   "mimetype": "text/x-python",
   "name": "python",
   "nbconvert_exporter": "python",
   "pygments_lexer": "ipython3",
   "version": "3.9.13"
  },
  "orig_nbformat": 4,
  "vscode": {
   "interpreter": {
    "hash": "fd4c252bf6a1697ce6d55fc21373e35d58a979c44f68612d4b63832fe019c242"
   }
  }
 },
 "nbformat": 4,
 "nbformat_minor": 2
}

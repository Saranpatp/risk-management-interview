{
 "cells": [
  {
   "cell_type": "code",
   "execution_count": null,
   "metadata": {},
   "outputs": [],
   "source": [
    "import numpy as np\n",
    "import pandas as pd\n",
    "import matplotlib.pyplot as plt\n",
    "from arch import arch_model\n",
    "import yfinance as yf"
   ]
  },
  {
   "cell_type": "code",
   "execution_count": null,
   "metadata": {},
   "outputs": [],
   "source": [
    "ticker = \"AAPL\"\n",
    "df = yf.download(ticker, start=\"2010-01-01\", end=\"2021-12-31\")\n",
    "df['Returns'] = df['Close'].pct_change().dropna()"
   ]
  },
  {
   "cell_type": "code",
   "execution_count": null,
   "metadata": {},
   "outputs": [],
   "source": [
    "garch = arch_model(df['Returns'], mean='AR', vol='GARCH', p=1, q=1)\n",
    "garch_fit = garch.fit()\n",
    "print(garch_fit.summary())\n",
    "forecasts = garch_fit.forecast(horizon=10)\n",
    "volatility = forecasts.variance"
   ]
  },
  {
   "cell_type": "code",
   "execution_count": null,
   "metadata": {},
   "outputs": [],
   "source": [
    "df['Returns'].plot(figsize=(12, 8))\n",
    "plt.plot(volatility, color='red')\n",
    "plt.xlabel(\"Year\")\n",
    "plt.ylabel(\"Volatility\")\n",
    "plt.title(f\"{ticker} Stock Volatility Forecast\")\n",
    "plt.show()\n"
   ]
  }
 ],
 "metadata": {
  "kernelspec": {
   "display_name": "base",
   "language": "python",
   "name": "python3"
  },
  "language_info": {
   "name": "python",
   "version": "3.9.12"
  },
  "orig_nbformat": 4,
  "vscode": {
   "interpreter": {
    "hash": "dee228cee51ea3be9d71a3d90a45f3623ec57f29b5d0dce0e03d09b892f3fd47"
   }
  }
 },
 "nbformat": 4,
 "nbformat_minor": 2
}

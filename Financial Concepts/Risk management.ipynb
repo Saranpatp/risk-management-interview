{
 "cells": [
  {
   "cell_type": "markdown",
   "id": "a56dd654",
   "metadata": {},
   "source": [
    "**Technology:** Compute $\\cos(k\\pi/10)$ for $k\\in \\{0,1,2,\\dots 20\\}$\n"
   ]
  }
 ],
 "metadata": {
  "kernelspec": {
   "display_name": "Python 3 (ipykernel)",
   "language": "python",
   "name": "python3"
  },
  "language_info": {
   "codemirror_mode": {
    "name": "ipython",
    "version": 3
   },
   "file_extension": ".py",
   "mimetype": "text/x-python",
   "name": "python",
   "nbconvert_exporter": "python",
   "pygments_lexer": "ipython3",
   "version": "3.9.12"
  }
 },
 "nbformat": 4,
 "nbformat_minor": 5
}
